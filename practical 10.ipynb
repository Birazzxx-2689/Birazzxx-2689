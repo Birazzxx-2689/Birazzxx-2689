{
 "cells": [
  {
   "cell_type": "code",
   "execution_count": 5,
   "metadata": {},
   "outputs": [
    {
     "data": {
      "text/plain": [
       "<Figure size 2000x200 with 10 Axes>"
      ]
     },
     "metadata": {},
     "output_type": "display_data"
    },
    {
     "name": "stdout",
     "output_type": "stream",
     "text": [
      "Epoch 1/3\n",
      "469/469 [==============================] - 186s 375ms/step - loss: 0.1669 - val_loss: 0.1165\n",
      "Epoch 2/3\n",
      "469/469 [==============================] - 165s 353ms/step - loss: 0.1133 - val_loss: 0.1090\n",
      "Epoch 3/3\n",
      "469/469 [==============================] - 214s 457ms/step - loss: 0.1077 - val_loss: 0.1046\n"
     ]
    },
    {
     "data": {
      "text/plain": [
       "<Figure size 2000x200 with 10 Axes>"
      ]
     },
     "metadata": {},
     "output_type": "display_data"
    }
   ],
   "source": [
    "import keras\n",
    "from keras.datasets import mnist\n",
    "from keras import layers\n",
    "import numpy as np\n",
    "from keras.callbacks import TensorBoard\n",
    "import matplotlib.pyplot as plt\n",
    "(X_train,_),(X_test,_)=mnist.load_data()\n",
    "X_train=X_train.astype('float32')/255.\n",
    "X_test=X_test.astype('float32')/255.\n",
    "X_train=np.reshape(X_train,(len(X_train),28,28,1))\n",
    "\n",
    "X_test=np.reshape(X_test,(len(X_test),28,28,1))\n",
    "noise_factor=0.5\n",
    "X_train_noisy=X_train+noise_factor*np.random.normal(loc=0.0,scale=1.0,size=X_train.shape)\n",
    "X_test_noisy=X_test+noise_factor*np.random.normal(loc=0.0,scale=1.0,size=X_test.shape)\n",
    "X_train_noisy=np.clip(X_train_noisy,0.,1.)\n",
    "X_test_noisy=np.clip(X_test_noisy,0.,1.)\n",
    "n=10\n",
    "plt.figure(figsize=(20,2))\n",
    "for i in range(1,n+1):\n",
    "    ax=plt.subplot(1,n,i)\n",
    "plt.imshow(X_test_noisy[i].reshape(28,28))\n",
    "plt.gray()\n",
    "ax.get_xaxis().set_visible(False)\n",
    "ax.get_yaxis().set_visible(False)\n",
    "plt.show()\n",
    "input_img=keras.Input(shape=(28,28,1))\n",
    "x=layers.Conv2D(32,(3,3),activation='relu',padding='same')(input_img)\n",
    "x=layers.MaxPooling2D((2,2),padding='same')(x)\n",
    "x=layers.Conv2D(32,(3,3),activation='relu',padding='same')(x)\n",
    "encoded=layers.MaxPooling2D((2,2),padding='same')(x)\n",
    "x=layers.Conv2D(32,(3,3),activation='relu',padding='same')(encoded)\n",
    "x=layers.UpSampling2D((2,2))(x)\n",
    "x=layers.Conv2D(32,(3,3),activation='relu',padding='same')(x)\n",
    "x=layers.UpSampling2D((2,2))(x)\n",
    "decoded=layers.Conv2D(1,(3,3),activation='sigmoid',padding='same')(x)\n",
    "autoencoder=keras.Model(input_img,decoded)\n",
    "autoencoder.compile(optimizer='adam',loss='binary_crossentropy')\n",
    "autoencoder.fit(X_train_noisy,X_train,\n",
    "epochs=3,\n",
    "batch_size=128,\n",
    "shuffle=True,\n",
    "validation_data=(X_test_noisy,X_test),\n",
    "callbacks=[TensorBoard(log_dir='/tmo/tb',histogram_freq=0,write_graph=False)])\n",
    "predictions=autoencoder.predict(X_test_noisy)\n",
    "m=10\n",
    "plt.figure(figsize=(20,2))\n",
    "for i in range(1,m+1):\n",
    "    ax=plt.subplot(1,m,i)\n",
    "plt.imshow(predictions[i].reshape(28,28))\n",
    "plt.gray()\n",
    "ax.get_xaxis().set_visible(False)\n",
    "ax.get_yaxis().set_visible(False)\n",
    "plt.show()"
   ]
  },
  {
   "cell_type": "code",
   "execution_count": null,
   "metadata": {},
   "outputs": [],
   "source": []
  }
 ],
 "metadata": {
  "kernelspec": {
   "display_name": "Python 3",
   "language": "python",
   "name": "python3"
  },
  "language_info": {
   "codemirror_mode": {
    "name": "ipython",
    "version": 3
   },
   "file_extension": ".py",
   "mimetype": "text/x-python",
   "name": "python",
   "nbconvert_exporter": "python",
   "pygments_lexer": "ipython3",
   "version": "3.7.3"
  }
 },
 "nbformat": 4,
 "nbformat_minor": 2
}
